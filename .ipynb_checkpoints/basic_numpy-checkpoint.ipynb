{
 "cells": [
  {
   "cell_type": "code",
   "execution_count": 2,
   "id": "tested-paragraph",
   "metadata": {},
   "outputs": [],
   "source": [
    "import numpy as np"
   ]
  },
  {
   "cell_type": "markdown",
   "id": "abroad-exhibition",
   "metadata": {},
   "source": [
    "## The Basics"
   ]
  },
  {
   "cell_type": "code",
   "execution_count": 4,
   "id": "orange-shooting",
   "metadata": {},
   "outputs": [
    {
     "name": "stdout",
     "output_type": "stream",
     "text": [
      "[2 3 4]\n"
     ]
    }
   ],
   "source": [
    "x = np.array([2, 3, 4])\n",
    "print(x)"
   ]
  },
  {
   "cell_type": "code",
   "execution_count": 5,
   "id": "administrative-shore",
   "metadata": {},
   "outputs": [
    {
     "name": "stdout",
     "output_type": "stream",
     "text": [
      "[[1. 2. 3.]\n",
      " [4. 2. 4.]]\n"
     ]
    }
   ],
   "source": [
    "y = np.array([[1, 2, 3], [4.0, 2, 4]])\n",
    "print(y)"
   ]
  },
  {
   "cell_type": "code",
   "execution_count": 8,
   "id": "referenced-nirvana",
   "metadata": {},
   "outputs": [
    {
     "name": "stdout",
     "output_type": "stream",
     "text": [
      "1\n",
      "2\n"
     ]
    }
   ],
   "source": [
    "# Get Dimension\n",
    "print(x.ndim)\n",
    "print(y.ndim)"
   ]
  },
  {
   "cell_type": "code",
   "execution_count": 9,
   "id": "clinical-alberta",
   "metadata": {},
   "outputs": [
    {
     "name": "stdout",
     "output_type": "stream",
     "text": [
      "(3,)\n",
      "(2, 3)\n"
     ]
    }
   ],
   "source": [
    "# Get Shape\n",
    "print(x.shape)\n",
    "print(y.shape)"
   ]
  },
  {
   "cell_type": "code",
   "execution_count": 11,
   "id": "silent-priority",
   "metadata": {},
   "outputs": [
    {
     "name": "stdout",
     "output_type": "stream",
     "text": [
      "int32\n",
      "float64\n"
     ]
    }
   ],
   "source": [
    "# Get Type\n",
    "print(x.dtype)\n",
    "print(y.dtype)"
   ]
  },
  {
   "cell_type": "code",
   "execution_count": 14,
   "id": "initial-homeless",
   "metadata": {},
   "outputs": [
    {
     "name": "stdout",
     "output_type": "stream",
     "text": [
      "item size in bytes:  4\n",
      "item size in bytes:  8\n",
      "total size:  12\n",
      "total size:  48\n"
     ]
    }
   ],
   "source": [
    "# Get Size\n",
    "print('item size in bytes: ', x.itemsize)\n",
    "print('item size in bytes: ', y.itemsize)\n",
    "\n",
    "# Get total size\n",
    "print('total size: ', x.size * x.itemsize)\n",
    "print('total size: ', y.nbytes)"
   ]
  },
  {
   "cell_type": "markdown",
   "id": "collect-tiger",
   "metadata": {},
   "source": [
    "## Accessing/Changing specific elements, rows, column, etc"
   ]
  },
  {
   "cell_type": "code",
   "execution_count": 15,
   "id": "novel-floating",
   "metadata": {},
   "outputs": [
    {
     "name": "stdout",
     "output_type": "stream",
     "text": [
      "[[ 1  2  3  4  5  6  7]\n",
      " [ 8  9 10 11 12 13 14]]\n"
     ]
    }
   ],
   "source": [
    "a = np.array([[1, 2, 3, 4, 5, 6, 7], [8, 9, 10, 11, 12, 13, 14]])\n",
    "print(a)"
   ]
  },
  {
   "cell_type": "code",
   "execution_count": 20,
   "id": "aware-siemens",
   "metadata": {},
   "outputs": [
    {
     "name": "stdout",
     "output_type": "stream",
     "text": [
      "8\n",
      "7\n"
     ]
    }
   ],
   "source": [
    "#Get specific element [r, c]\n",
    "print(a[1, 0])\n",
    "print(a[0, -1])"
   ]
  },
  {
   "cell_type": "code",
   "execution_count": 21,
   "id": "polished-brass",
   "metadata": {},
   "outputs": [
    {
     "data": {
      "text/plain": [
       "array([1, 2, 3, 4, 5, 6, 7])"
      ]
     },
     "execution_count": 21,
     "metadata": {},
     "output_type": "execute_result"
    }
   ],
   "source": [
    "# Get specific row\n",
    "a[0, :]"
   ]
  },
  {
   "cell_type": "code",
   "execution_count": 23,
   "id": "lyric-politics",
   "metadata": {},
   "outputs": [
    {
     "data": {
      "text/plain": [
       "array([2, 9])"
      ]
     },
     "execution_count": 23,
     "metadata": {},
     "output_type": "execute_result"
    }
   ],
   "source": [
    "# Get specific column\n",
    "a[:, 1]"
   ]
  },
  {
   "cell_type": "code",
   "execution_count": 25,
   "id": "wrong-earthquake",
   "metadata": {},
   "outputs": [
    {
     "data": {
      "text/plain": [
       "array([2, 4, 6])"
      ]
     },
     "execution_count": 25,
     "metadata": {},
     "output_type": "execute_result"
    }
   ],
   "source": [
    "# [startindex:endindex:stepsize]\n",
    "a[0, 1:6:2]"
   ]
  },
  {
   "cell_type": "code",
   "execution_count": 32,
   "id": "proof-keyboard",
   "metadata": {},
   "outputs": [
    {
     "name": "stdout",
     "output_type": "stream",
     "text": [
      "[[  1   2 101   4   5   6   7]\n",
      " [  8   9  99  11  12  20  14]] \n",
      "\n",
      "[[  1   2 100   4   5   6   7]\n",
      " [  8   9 100  11  12  20  14]] \n",
      "\n",
      "[[  1   2 101   4   5   6   7]\n",
      " [  8   9  99  11  12  20  14]]\n"
     ]
    }
   ],
   "source": [
    "# Change value\n",
    "a[1, 5] = 20\n",
    "print(a, '\\n')\n",
    "\n",
    "a[:, 2] = 100\n",
    "print(a, '\\n')\n",
    "\n",
    "a[:, 2] = [101, 99]\n",
    "print(a)"
   ]
  },
  {
   "cell_type": "code",
   "execution_count": 34,
   "id": "unnecessary-algeria",
   "metadata": {},
   "outputs": [
    {
     "name": "stdout",
     "output_type": "stream",
     "text": [
      "[[[1 2]\n",
      "  [3 4]]\n",
      "\n",
      " [[5 6]\n",
      "  [7 8]]]\n"
     ]
    }
   ],
   "source": [
    "# 3D example\n",
    "b = np.array([[[1, 2],[3, 4]], [[5, 6], [7, 8]]])\n",
    "print(b)"
   ]
  },
  {
   "cell_type": "code",
   "execution_count": 40,
   "id": "optical-roulette",
   "metadata": {},
   "outputs": [
    {
     "name": "stdout",
     "output_type": "stream",
     "text": [
      "3\n",
      "\n",
      "[[1 2]\n",
      " [3 4]]\n"
     ]
    }
   ],
   "source": [
    "# Get specific element (work outside in)\n",
    "print(b[0, 1, 0])\n",
    "print()\n",
    "print(b[0, :])"
   ]
  },
  {
   "cell_type": "code",
   "execution_count": 43,
   "id": "satisfied-direction",
   "metadata": {},
   "outputs": [
    {
     "data": {
      "text/plain": [
       "array([[[  1,   2],\n",
       "        [100, 101]],\n",
       "\n",
       "       [[  5,   6],\n",
       "        [ 99,  98]]])"
      ]
     },
     "execution_count": 43,
     "metadata": {},
     "output_type": "execute_result"
    }
   ],
   "source": [
    "# Replace\n",
    "b[:, 1, :] = [[100, 101], [99, 98]]\n",
    "b"
   ]
  },
  {
   "cell_type": "markdown",
   "id": "pursuant-english",
   "metadata": {},
   "source": [
    "## Initialize different types of arrays"
   ]
  },
  {
   "cell_type": "code",
   "execution_count": 49,
   "id": "latin-placement",
   "metadata": {},
   "outputs": [
    {
     "data": {
      "text/plain": [
       "array([[0., 0., 0.],\n",
       "       [0., 0., 0.]])"
      ]
     },
     "execution_count": 49,
     "metadata": {},
     "output_type": "execute_result"
    }
   ],
   "source": [
    "# All 0s matrix\n",
    "np.zeros((2, 3))"
   ]
  },
  {
   "cell_type": "code",
   "execution_count": 51,
   "id": "expected-pearl",
   "metadata": {},
   "outputs": [
    {
     "data": {
      "text/plain": [
       "array([[[0., 0., 0., 0., 0.],\n",
       "        [0., 0., 0., 0., 0.],\n",
       "        [0., 0., 0., 0., 0.]],\n",
       "\n",
       "       [[0., 0., 0., 0., 0.],\n",
       "        [0., 0., 0., 0., 0.],\n",
       "        [0., 0., 0., 0., 0.]]])"
      ]
     },
     "execution_count": 51,
     "metadata": {},
     "output_type": "execute_result"
    }
   ],
   "source": [
    "np.zeros((2, 3, 5))"
   ]
  },
  {
   "cell_type": "code",
   "execution_count": 53,
   "id": "authorized-meaning",
   "metadata": {},
   "outputs": [
    {
     "data": {
      "text/plain": [
       "array([[[1., 1., 1., 1., 1.],\n",
       "        [1., 1., 1., 1., 1.]],\n",
       "\n",
       "       [[1., 1., 1., 1., 1.],\n",
       "        [1., 1., 1., 1., 1.]],\n",
       "\n",
       "       [[1., 1., 1., 1., 1.],\n",
       "        [1., 1., 1., 1., 1.]],\n",
       "\n",
       "       [[1., 1., 1., 1., 1.],\n",
       "        [1., 1., 1., 1., 1.]]])"
      ]
     },
     "execution_count": 53,
     "metadata": {},
     "output_type": "execute_result"
    }
   ],
   "source": [
    "# All 1s matrix\n",
    "np.ones((4, 2, 5))"
   ]
  },
  {
   "cell_type": "code",
   "execution_count": 55,
   "id": "russian-retrieval",
   "metadata": {},
   "outputs": [
    {
     "data": {
      "text/plain": [
       "array([[[1, 1, 1],\n",
       "        [1, 1, 1]],\n",
       "\n",
       "       [[1, 1, 1],\n",
       "        [1, 1, 1]],\n",
       "\n",
       "       [[1, 1, 1],\n",
       "        [1, 1, 1]],\n",
       "\n",
       "       [[1, 1, 1],\n",
       "        [1, 1, 1]],\n",
       "\n",
       "       [[1, 1, 1],\n",
       "        [1, 1, 1]]])"
      ]
     },
     "execution_count": 55,
     "metadata": {},
     "output_type": "execute_result"
    }
   ],
   "source": [
    "np.ones((5, 2, 3), dtype='int32')"
   ]
  },
  {
   "cell_type": "code",
   "execution_count": 57,
   "id": "challenging-money",
   "metadata": {},
   "outputs": [
    {
     "data": {
      "text/plain": [
       "array([[101, 101, 101],\n",
       "       [101, 101, 101],\n",
       "       [101, 101, 101]])"
      ]
     },
     "execution_count": 57,
     "metadata": {},
     "output_type": "execute_result"
    }
   ],
   "source": [
    "# Any other number\n",
    "np.full((3, 3), 101)"
   ]
  },
  {
   "cell_type": "code",
   "execution_count": 59,
   "id": "legitimate-projection",
   "metadata": {},
   "outputs": [
    {
     "data": {
      "text/plain": [
       "array([[98., 98., 98., 98.],\n",
       "       [98., 98., 98., 98.],\n",
       "       [98., 98., 98., 98.]], dtype=float32)"
      ]
     },
     "execution_count": 59,
     "metadata": {},
     "output_type": "execute_result"
    }
   ],
   "source": [
    "np.full((3, 4), 98, dtype='float32')"
   ]
  },
  {
   "cell_type": "code",
   "execution_count": 62,
   "id": "typical-conservative",
   "metadata": {},
   "outputs": [
    {
     "data": {
      "text/plain": [
       "array([[[5, 5],\n",
       "        [5, 5]],\n",
       "\n",
       "       [[5, 5],\n",
       "        [5, 5]]])"
      ]
     },
     "execution_count": 62,
     "metadata": {},
     "output_type": "execute_result"
    }
   ],
   "source": [
    "# Any other number (full_like)\n",
    "np.full_like(b, 5)"
   ]
  },
  {
   "cell_type": "code",
   "execution_count": 66,
   "id": "olive-change",
   "metadata": {},
   "outputs": [
    {
     "data": {
      "text/plain": [
       "array([[[0.50262275, 0.36653364, 0.98485669],\n",
       "        [0.14476955, 0.32260903, 0.28146494]],\n",
       "\n",
       "       [[0.27432137, 0.29943968, 0.00409575],\n",
       "        [0.91065283, 0.04041846, 0.52145351]],\n",
       "\n",
       "       [[0.15824619, 0.65393928, 0.15700573],\n",
       "        [0.49232011, 0.38099736, 0.75151907]],\n",
       "\n",
       "       [[0.3999451 , 0.32716417, 0.09380662],\n",
       "        [0.46761976, 0.41626755, 0.52770928]]])"
      ]
     },
     "execution_count": 66,
     "metadata": {},
     "output_type": "execute_result"
    }
   ],
   "source": [
    "# Random decimal numbers\n",
    "np.random.rand(4, 2, 3)"
   ]
  },
  {
   "cell_type": "code",
   "execution_count": 69,
   "id": "excellent-cannon",
   "metadata": {},
   "outputs": [
    {
     "data": {
      "text/plain": [
       "array([[[0.14218451, 0.56242913],\n",
       "        [0.0751668 , 0.32497744]],\n",
       "\n",
       "       [[0.63117533, 0.95321807],\n",
       "        [0.82790322, 0.81488273]]])"
      ]
     },
     "execution_count": 69,
     "metadata": {},
     "output_type": "execute_result"
    }
   ],
   "source": [
    "np.random.random_sample(b.shape)"
   ]
  },
  {
   "cell_type": "code",
   "execution_count": 74,
   "id": "curious-islam",
   "metadata": {},
   "outputs": [
    {
     "data": {
      "text/plain": [
       "array([[5, 9, 5, 9, 6],\n",
       "       [9, 8, 7, 9, 6],\n",
       "       [9, 7, 6, 7, 7]])"
      ]
     },
     "execution_count": 74,
     "metadata": {},
     "output_type": "execute_result"
    }
   ],
   "source": [
    "# Random integer values\n",
    "np.random.randint(5, 10, size=(3, 5))"
   ]
  },
  {
   "cell_type": "code",
   "execution_count": 77,
   "id": "usual-badge",
   "metadata": {},
   "outputs": [
    {
     "data": {
      "text/plain": [
       "array([[1., 0., 0., 0., 0.],\n",
       "       [0., 1., 0., 0., 0.],\n",
       "       [0., 0., 1., 0., 0.],\n",
       "       [0., 0., 0., 1., 0.],\n",
       "       [0., 0., 0., 0., 1.]])"
      ]
     },
     "execution_count": 77,
     "metadata": {},
     "output_type": "execute_result"
    }
   ],
   "source": [
    "# Identity matrix\n",
    "np.identity(5)"
   ]
  },
  {
   "cell_type": "code",
   "execution_count": 83,
   "id": "portable-marker",
   "metadata": {},
   "outputs": [
    {
     "name": "stdout",
     "output_type": "stream",
     "text": [
      "[[1 2 3]\n",
      " [1 2 3]\n",
      " [1 2 3]\n",
      " [1 2 3]\n",
      " [1 2 3]]\n"
     ]
    }
   ],
   "source": [
    "# Repeat an array n times\n",
    "arr = np.array([[1, 2, 3]])\n",
    "arr_repeat = np.repeat(arr, 5, axis=0)\n",
    "print(arr_repeat)"
   ]
  },
  {
   "attachments": {
    "image-3.png": {
     "image/png": "[encoded data removed]"
    }
   },
   "cell_type": "markdown",
   "id": "bearing-anthropology",
   "metadata": {},
   "source": [
    "![image-3.png](attachment:image-3.png)"
   ]
  },
  {
   "cell_type": "markdown",
   "id": "behind-gravity",
   "metadata": {},
   "source": [
    "## Challenge 1: create this array"
   ]
  },
  {
   "cell_type": "code",
   "execution_count": null,
   "id": "persistent-business",
   "metadata": {},
   "outputs": [],
   "source": []
  }
 ],
 "metadata": {
  "kernelspec": {
   "display_name": "Python 3",
   "language": "python",
   "name": "python3"
  },
  "language_info": {
   "codemirror_mode": {
    "name": "ipython",
    "version": 3
   },
   "file_extension": ".py",
   "mimetype": "text/x-python",
   "name": "python",
   "nbconvert_exporter": "python",
   "pygments_lexer": "ipython3",
   "version": "3.9.0"
  }
 },
 "nbformat": 4,
 "nbformat_minor": 5
}
